{
 "cells": [
  {
   "cell_type": "code",
   "execution_count": 1,
   "metadata": {},
   "outputs": [],
   "source": [
    "import numpy as np\n",
    "from scipy.optimize import minimize"
   ]
  },
  {
   "cell_type": "markdown",
   "metadata": {},
   "source": [
    "## Find the Minimum of a Function\n",
    "$f(x)=(x−3)^2+5$"
   ]
  },
  {
   "cell_type": "code",
   "execution_count": 2,
   "metadata": {},
   "outputs": [
    {
     "name": "stdout",
     "output_type": "stream",
     "text": [
      "[3.00000003]\n"
     ]
    }
   ],
   "source": [
    "# Define the function\n",
    "def f(x):\n",
    "    return (x - 3)**2 + 5 \n",
    "\n",
    "# Initial guess for x\n",
    "x0 = 0  \n",
    "\n",
    "# Minimize the function\n",
    "result = minimize(f, x0, method='BFGS')\n",
    "\n",
    "print(result.x)  # Best value of x"
   ]
  },
  {
   "cell_type": "markdown",
   "metadata": {},
   "source": [
    "### Without BFGS"
   ]
  },
  {
   "cell_type": "code",
   "execution_count": 3,
   "metadata": {},
   "outputs": [
    {
     "name": "stdout",
     "output_type": "stream",
     "text": [
      "[3.00000003]\n"
     ]
    }
   ],
   "source": [
    "# Define the function\n",
    "def f(x):\n",
    "    return (x - 3)**2 + 5 \n",
    "\n",
    "# Initial guess for x\n",
    "x0 = 0  \n",
    "\n",
    "# Minimize the function\n",
    "result = minimize(f, x0)\n",
    "\n",
    "print(result.x)  # Best value of x"
   ]
  },
  {
   "cell_type": "markdown",
   "metadata": {},
   "source": [
    " ## Find Minimum with Constraints\n",
    "📌 Function:\n",
    "\n",
    "f(x,y)=x \n",
    "2\n",
    " +y \n",
    "2\n",
    " \n",
    "📌 Constraint:\n",
    "\n",
    "x+y≥1"
   ]
  },
  {
   "cell_type": "code",
   "execution_count": 7,
   "metadata": {},
   "outputs": [
    {
     "name": "stdout",
     "output_type": "stream",
     "text": [
      "[0.5 0.5]\n"
     ]
    }
   ],
   "source": [
    "# Define function to minimize\n",
    "def f(x):\n",
    "    return x[0]**2 + x[1]**2  \n",
    "\n",
    "# Constraint: x + y >= 1\n",
    "constraints = {'type': 'ineq', 'fun': lambda x: x[0] + x[1] - 1}\n",
    "\n",
    "# Initial guess for x and y\n",
    "x0 = [0, 0]\n",
    "\n",
    "# Solve\n",
    "result = minimize(f, x0, constraints=constraints)\n",
    "print(result.x)  # Best values for x and y\n"
   ]
  },
  {
   "cell_type": "markdown",
   "metadata": {},
   "source": [
    "## Finds `x` for which `f(x) = 0`\n",
    "\n",
    "### 📌 **Equation:**\n",
    "\n",
    "**x² - 4 = 0**\n",
    "\n",
    "### 📌 **Expected Answer:** `x = ±2`"
   ]
  },
  {
   "cell_type": "code",
   "execution_count": 10,
   "metadata": {},
   "outputs": [
    {
     "name": "stdout",
     "output_type": "stream",
     "text": [
      "[2.]\n"
     ]
    }
   ],
   "source": [
    "from scipy.optimize import root\n",
    "\n",
    "# Define equation\n",
    "def equation(x):\n",
    "    return x**2 - 4\n",
    "\n",
    "# Initial guess for x\n",
    "x0 = 1  \n",
    "\n",
    "# Solve\n",
    "solution = root(equation, x0)\n",
    "print(solution.x)\n"
   ]
  },
  {
   "cell_type": "code",
   "execution_count": 11,
   "metadata": {},
   "outputs": [
    {
     "data": {
      "text/plain": [
       " message: The solution converged.\n",
       " success: True\n",
       "  status: 1\n",
       "     fun: [ 1.776e-15]\n",
       "       x: [ 2.000e+00]\n",
       "  method: hybr\n",
       "    nfev: 11\n",
       "    fjac: [[-1.000e+00]]\n",
       "       r: [-4.000e+00]\n",
       "     qtf: [ 1.530e-09]"
      ]
     },
     "execution_count": 11,
     "metadata": {},
     "output_type": "execute_result"
    }
   ],
   "source": [
    "solution"
   ]
  }
 ],
 "metadata": {
  "kernelspec": {
   "display_name": "Python 3",
   "language": "python",
   "name": "python3"
  },
  "language_info": {
   "codemirror_mode": {
    "name": "ipython",
    "version": 3
   },
   "file_extension": ".py",
   "mimetype": "text/x-python",
   "name": "python",
   "nbconvert_exporter": "python",
   "pygments_lexer": "ipython3",
   "version": "3.12.3"
  }
 },
 "nbformat": 4,
 "nbformat_minor": 2
}
